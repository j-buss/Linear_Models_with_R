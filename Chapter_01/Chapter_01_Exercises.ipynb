{
 "cells": [
  {
   "cell_type": "markdown",
   "metadata": {},
   "source": [
    "# Chapter 1 - Exercises"
   ]
  },
  {
   "cell_type": "markdown",
   "metadata": {},
   "source": [
    "### Install Pacakges needed"
   ]
  },
  {
   "cell_type": "code",
   "execution_count": 1,
   "metadata": {},
   "outputs": [
    {
     "name": "stderr",
     "output_type": "stream",
     "text": [
      "Installing package into ‘/home/jeremyfbuss/R/x86_64-pc-linux-gnu-library/3.6’\n",
      "(as ‘lib’ is unspecified)\n",
      "\n",
      "Installing package into ‘/home/jeremyfbuss/R/x86_64-pc-linux-gnu-library/3.6’\n",
      "(as ‘lib’ is unspecified)\n",
      "\n",
      "Installing package into ‘/home/jeremyfbuss/R/x86_64-pc-linux-gnu-library/3.6’\n",
      "(as ‘lib’ is unspecified)\n",
      "\n"
     ]
    }
   ],
   "source": [
    "install.packages(\"faraway\")\n",
    "install.packages(\"ggplot2\")\n",
    "install.packages(\"tidyr\")"
   ]
  },
  {
   "cell_type": "markdown",
   "metadata": {},
   "source": [
    "### Load Libraries needed"
   ]
  },
  {
   "cell_type": "code",
   "execution_count": 2,
   "metadata": {},
   "outputs": [],
   "source": [
    "library(tidyr)"
   ]
  },
  {
   "cell_type": "markdown",
   "metadata": {},
   "source": [
    "## 1. Explore teengamb"
   ]
  },
  {
   "cell_type": "code",
   "execution_count": 3,
   "metadata": {},
   "outputs": [
    {
     "data": {
      "text/html": [
       "<table class=\"dataframe\">\n",
       "<caption>A data.frame: 6 × 5</caption>\n",
       "<thead>\n",
       "\t<tr><th></th><th scope=col>sex</th><th scope=col>status</th><th scope=col>income</th><th scope=col>verbal</th><th scope=col>gamble</th></tr>\n",
       "\t<tr><th></th><th scope=col>&lt;int&gt;</th><th scope=col>&lt;int&gt;</th><th scope=col>&lt;dbl&gt;</th><th scope=col>&lt;int&gt;</th><th scope=col>&lt;dbl&gt;</th></tr>\n",
       "</thead>\n",
       "<tbody>\n",
       "\t<tr><th scope=row>1</th><td>1</td><td>51</td><td>2.00</td><td>8</td><td> 0.0</td></tr>\n",
       "\t<tr><th scope=row>2</th><td>1</td><td>28</td><td>2.50</td><td>8</td><td> 0.0</td></tr>\n",
       "\t<tr><th scope=row>3</th><td>1</td><td>37</td><td>2.00</td><td>6</td><td> 0.0</td></tr>\n",
       "\t<tr><th scope=row>4</th><td>1</td><td>28</td><td>7.00</td><td>4</td><td> 7.3</td></tr>\n",
       "\t<tr><th scope=row>5</th><td>1</td><td>65</td><td>2.00</td><td>8</td><td>19.6</td></tr>\n",
       "\t<tr><th scope=row>6</th><td>1</td><td>61</td><td>3.47</td><td>6</td><td> 0.1</td></tr>\n",
       "</tbody>\n",
       "</table>\n"
      ],
      "text/latex": [
       "A data.frame: 6 × 5\n",
       "\\begin{tabular}{r|lllll}\n",
       "  & sex & status & income & verbal & gamble\\\\\n",
       "  & <int> & <int> & <dbl> & <int> & <dbl>\\\\\n",
       "\\hline\n",
       "\t1 & 1 & 51 & 2.00 & 8 &  0.0\\\\\n",
       "\t2 & 1 & 28 & 2.50 & 8 &  0.0\\\\\n",
       "\t3 & 1 & 37 & 2.00 & 6 &  0.0\\\\\n",
       "\t4 & 1 & 28 & 7.00 & 4 &  7.3\\\\\n",
       "\t5 & 1 & 65 & 2.00 & 8 & 19.6\\\\\n",
       "\t6 & 1 & 61 & 3.47 & 6 &  0.1\\\\\n",
       "\\end{tabular}\n"
      ],
      "text/markdown": [
       "\n",
       "A data.frame: 6 × 5\n",
       "\n",
       "| <!--/--> | sex &lt;int&gt; | status &lt;int&gt; | income &lt;dbl&gt; | verbal &lt;int&gt; | gamble &lt;dbl&gt; |\n",
       "|---|---|---|---|---|---|\n",
       "| 1 | 1 | 51 | 2.00 | 8 |  0.0 |\n",
       "| 2 | 1 | 28 | 2.50 | 8 |  0.0 |\n",
       "| 3 | 1 | 37 | 2.00 | 6 |  0.0 |\n",
       "| 4 | 1 | 28 | 7.00 | 4 |  7.3 |\n",
       "| 5 | 1 | 65 | 2.00 | 8 | 19.6 |\n",
       "| 6 | 1 | 61 | 3.47 | 6 |  0.1 |\n",
       "\n"
      ],
      "text/plain": [
       "  sex status income verbal gamble\n",
       "1 1   51     2.00   8       0.0  \n",
       "2 1   28     2.50   8       0.0  \n",
       "3 1   37     2.00   6       0.0  \n",
       "4 1   28     7.00   4       7.3  \n",
       "5 1   65     2.00   8      19.6  \n",
       "6 1   61     3.47   6       0.1  "
      ]
     },
     "metadata": {},
     "output_type": "display_data"
    }
   ],
   "source": [
    "data(teengamb, package=\"faraway\")\n",
    "head(teengamb)"
   ]
  },
  {
   "cell_type": "code",
   "execution_count": 4,
   "metadata": {},
   "outputs": [],
   "source": [
    "# Change the categorical labels from 0 to male and 1 to female\n",
    "teengamb$sex <- factor(teengamb$sex)\n",
    "levels(teengamb$sex) <- c(\"male\",\"female\")"
   ]
  },
  {
   "cell_type": "code",
   "execution_count": 5,
   "metadata": {},
   "outputs": [
    {
     "data": {
      "text/plain": [
       "     sex         status          income           verbal          gamble     \n",
       " male  :28   Min.   :18.00   Min.   : 0.600   Min.   : 1.00   Min.   :  0.0  \n",
       " female:19   1st Qu.:28.00   1st Qu.: 2.000   1st Qu.: 6.00   1st Qu.:  1.1  \n",
       "             Median :43.00   Median : 3.250   Median : 7.00   Median :  6.0  \n",
       "             Mean   :45.23   Mean   : 4.642   Mean   : 6.66   Mean   : 19.3  \n",
       "             3rd Qu.:61.50   3rd Qu.: 6.210   3rd Qu.: 8.00   3rd Qu.: 19.4  \n",
       "             Max.   :75.00   Max.   :15.000   Max.   :10.00   Max.   :156.0  "
      ]
     },
     "metadata": {},
     "output_type": "display_data"
    }
   ],
   "source": [
    "summary(teengamb)"
   ]
  },
  {
   "cell_type": "code",
   "execution_count": 6,
   "metadata": {},
   "outputs": [
    {
     "data": {
      "image/png": "[encoded data removed]",
      "text/plain": [
       "Plot with title “”"
      ]
     },
     "metadata": {
      "image/png": {
       "height": 420,
       "width": 420
      }
     },
     "output_type": "display_data"
    }
   ],
   "source": [
    "plot(sort(teengamb$gamble), ylab=\"Pounds gambled per year\", main=\"\")"
   ]
  },
  {
   "cell_type": "code",
   "execution_count": 7,
   "metadata": {},
   "outputs": [
    {
     "data": {
      "image/png": "[encoded data removed]",
      "text/plain": [
       "plot without title"
      ]
     },
     "metadata": {
      "image/png": {
       "height": 420,
       "width": 420
      }
     },
     "output_type": "display_data"
    }
   ],
   "source": [
    "plot(gamble ~ sex, teengamb)"
   ]
  },
  {
   "cell_type": "code",
   "execution_count": 8,
   "metadata": {},
   "outputs": [
    {
     "ename": "ERROR",
     "evalue": "Error in ggplot(teengamb, aes(x = income, y = gamble, shape = sex)): could not find function \"ggplot\"\n",
     "output_type": "error",
     "traceback": [
      "Error in ggplot(teengamb, aes(x = income, y = gamble, shape = sex)): could not find function \"ggplot\"\nTraceback:\n"
     ]
    }
   ],
   "source": [
    "#require(ggplot2)\n",
    "ggplot(teengamb,aes(x=income,y=gamble,shape=sex))+geom_point(size=1)+facet_grid(~sex)\n",
    "ggplot(teengamb,aes(x=verbal,y=gamble,shape=sex))+geom_point(size=1)+facet_grid(~sex)"
   ]
  },
  {
   "cell_type": "markdown",
   "metadata": {},
   "source": [
    "### Findings"
   ]
  },
  {
   "cell_type": "markdown",
   "metadata": {},
   "source": [
    "We see that most of the teens gabled very little. With summary and the pounds gambled per week plat showing ~75% of the teens gambled less than 20 pounds. \n",
    "\n",
    "Additionally the male teens showed a much stronger inclination to gambling than their female peers. Lastly, there is a weak inverse relationship between verbal accuity and gambling inclination."
   ]
  },
  {
   "cell_type": "markdown",
   "metadata": {},
   "source": [
    "## 1.2 Explore uswages"
   ]
  },
  {
   "cell_type": "code",
   "execution_count": null,
   "metadata": {},
   "outputs": [],
   "source": [
    "data(uswages, package=\"faraway\")\n",
    "head(uswages)"
   ]
  },
  {
   "cell_type": "code",
   "execution_count": null,
   "metadata": {},
   "outputs": [],
   "source": [
    "# Change categorical labels from 0 to white and 1 to black\n",
    "uswages$race <- factor(uswages$race)\n",
    "levels(uswages$race) <- c(\"white\",\"black\")\n",
    "# Change categorical label for part time\n",
    "uswages$type <- factor(uswages$pt)\n",
    "levels(uswages$type) <- c(\"ft\",\"pt\")\n"
   ]
  },
  {
   "cell_type": "code",
   "execution_count": null,
   "metadata": {},
   "outputs": [],
   "source": [
    "long_uswages <- uswages %>% gather(Region, Y, ne:we)"
   ]
  },
  {
   "cell_type": "code",
   "execution_count": null,
   "metadata": {},
   "outputs": [],
   "source": [
    "long_uswages"
   ]
  },
  {
   "cell_type": "code",
   "execution_count": null,
   "metadata": {},
   "outputs": [],
   "source": [
    "long_uswages[order(long_uswages$wage),]"
   ]
  },
  {
   "cell_type": "code",
   "execution_count": null,
   "metadata": {},
   "outputs": [],
   "source": [
    "nrow(filter(uswages, pt == 0))"
   ]
  },
  {
   "cell_type": "code",
   "execution_count": null,
   "metadata": {},
   "outputs": [],
   "source": [
    "long_uswages_2 = long_uswages[long_uswages$Y != 0, ]"
   ]
  },
  {
   "cell_type": "code",
   "execution_count": null,
   "metadata": {},
   "outputs": [],
   "source": [
    "unique(uswages$exp)"
   ]
  },
  {
   "cell_type": "code",
   "execution_count": null,
   "metadata": {},
   "outputs": [],
   "source": [
    "head(long_uswages_2)"
   ]
  },
  {
   "cell_type": "code",
   "execution_count": null,
   "metadata": {},
   "outputs": [],
   "source": [
    "within(long_uswages_2, rm(Y))"
   ]
  },
  {
   "cell_type": "markdown",
   "metadata": {},
   "source": [
    "## 3. Explore prostate"
   ]
  },
  {
   "cell_type": "code",
   "execution_count": null,
   "metadata": {},
   "outputs": [],
   "source": [
    "data(prostate, package=\"faraway\")\n",
    "head(prostate)"
   ]
  },
  {
   "cell_type": "markdown",
   "metadata": {},
   "source": [
    "## 4. Explore sat"
   ]
  },
  {
   "cell_type": "code",
   "execution_count": null,
   "metadata": {},
   "outputs": [],
   "source": [
    "data(sat, package=\"faraway\")\n",
    "head(sat)"
   ]
  },
  {
   "cell_type": "markdown",
   "metadata": {},
   "source": [
    "## 5. Explore divusa"
   ]
  },
  {
   "cell_type": "code",
   "execution_count": null,
   "metadata": {},
   "outputs": [],
   "source": [
    "data(divusa, package=\"faraway\")\n",
    "head(divusa)"
   ]
  },
  {
   "cell_type": "code",
   "execution_count": null,
   "metadata": {},
   "outputs": [],
   "source": []
  }
 ],
 "metadata": {
  "kernelspec": {
   "display_name": "R",
   "language": "R",
   "name": "ir"
  },
  "language_info": {
   "codemirror_mode": "r",
   "file_extension": ".r",
   "mimetype": "text/x-r-source",
   "name": "R",
   "pygments_lexer": "r",
   "version": "3.6.3"
  }
 },
 "nbformat": 4,
 "nbformat_minor": 2
}
