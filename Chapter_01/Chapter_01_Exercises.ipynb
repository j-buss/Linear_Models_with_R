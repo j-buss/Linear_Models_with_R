{
 "cells": [
  {
   "cell_type": "markdown",
   "metadata": {},
   "source": [
    "# Chapter 1 - Exercises"
   ]
  },
  {
   "cell_type": "markdown",
   "metadata": {},
   "source": [
    "## 1. Explore teengamb"
   ]
  },
  {
   "cell_type": "code",
   "execution_count": 1,
   "metadata": {},
   "outputs": [
    {
     "name": "stderr",
     "output_type": "stream",
     "text": [
      "Installing package into ‘/home/jeremyfbuss/R/x86_64-pc-linux-gnu-library/3.6’\n",
      "(as ‘lib’ is unspecified)\n",
      "\n",
      "Warning message:\n",
      "“unable to access index for repository https://cloud.r-project.org/src/contrib:\n",
      "  cannot open URL 'https://cloud.r-project.org/src/contrib/PACKAGES'”\n",
      "Warning message:\n",
      "“package ‘faraway’ is not available (for R version 3.6.3)”\n",
      "Installing package into ‘/home/jeremyfbuss/R/x86_64-pc-linux-gnu-library/3.6’\n",
      "(as ‘lib’ is unspecified)\n",
      "\n",
      "Warning message:\n",
      "“unable to access index for repository https://cloud.r-project.org/src/contrib:\n",
      "  cannot open URL 'https://cloud.r-project.org/src/contrib/PACKAGES'”\n",
      "Warning message:\n",
      "“package ‘ggplot2’ is not available (for R version 3.6.3)”\n"
     ]
    }
   ],
   "source": [
    "install.packages(\"faraway\")\n",
    "install.packages(\"ggplot2\")"
   ]
  },
  {
   "cell_type": "code",
   "execution_count": 2,
   "metadata": {},
   "outputs": [
    {
     "data": {
      "text/html": [
       "<table class=\"dataframe\">\n",
       "<caption>A data.frame: 6 × 5</caption>\n",
       "<thead>\n",
       "\t<tr><th></th><th scope=col>sex</th><th scope=col>status</th><th scope=col>income</th><th scope=col>verbal</th><th scope=col>gamble</th></tr>\n",
       "\t<tr><th></th><th scope=col>&lt;int&gt;</th><th scope=col>&lt;int&gt;</th><th scope=col>&lt;dbl&gt;</th><th scope=col>&lt;int&gt;</th><th scope=col>&lt;dbl&gt;</th></tr>\n",
       "</thead>\n",
       "<tbody>\n",
       "\t<tr><th scope=row>1</th><td>1</td><td>51</td><td>2.00</td><td>8</td><td> 0.0</td></tr>\n",
       "\t<tr><th scope=row>2</th><td>1</td><td>28</td><td>2.50</td><td>8</td><td> 0.0</td></tr>\n",
       "\t<tr><th scope=row>3</th><td>1</td><td>37</td><td>2.00</td><td>6</td><td> 0.0</td></tr>\n",
       "\t<tr><th scope=row>4</th><td>1</td><td>28</td><td>7.00</td><td>4</td><td> 7.3</td></tr>\n",
       "\t<tr><th scope=row>5</th><td>1</td><td>65</td><td>2.00</td><td>8</td><td>19.6</td></tr>\n",
       "\t<tr><th scope=row>6</th><td>1</td><td>61</td><td>3.47</td><td>6</td><td> 0.1</td></tr>\n",
       "</tbody>\n",
       "</table>\n"
      ],
      "text/latex": [
       "A data.frame: 6 × 5\n",
       "\\begin{tabular}{r|lllll}\n",
       "  & sex & status & income & verbal & gamble\\\\\n",
       "  & <int> & <int> & <dbl> & <int> & <dbl>\\\\\n",
       "\\hline\n",
       "\t1 & 1 & 51 & 2.00 & 8 &  0.0\\\\\n",
       "\t2 & 1 & 28 & 2.50 & 8 &  0.0\\\\\n",
       "\t3 & 1 & 37 & 2.00 & 6 &  0.0\\\\\n",
       "\t4 & 1 & 28 & 7.00 & 4 &  7.3\\\\\n",
       "\t5 & 1 & 65 & 2.00 & 8 & 19.6\\\\\n",
       "\t6 & 1 & 61 & 3.47 & 6 &  0.1\\\\\n",
       "\\end{tabular}\n"
      ],
      "text/markdown": [
       "\n",
       "A data.frame: 6 × 5\n",
       "\n",
       "| <!--/--> | sex &lt;int&gt; | status &lt;int&gt; | income &lt;dbl&gt; | verbal &lt;int&gt; | gamble &lt;dbl&gt; |\n",
       "|---|---|---|---|---|---|\n",
       "| 1 | 1 | 51 | 2.00 | 8 |  0.0 |\n",
       "| 2 | 1 | 28 | 2.50 | 8 |  0.0 |\n",
       "| 3 | 1 | 37 | 2.00 | 6 |  0.0 |\n",
       "| 4 | 1 | 28 | 7.00 | 4 |  7.3 |\n",
       "| 5 | 1 | 65 | 2.00 | 8 | 19.6 |\n",
       "| 6 | 1 | 61 | 3.47 | 6 |  0.1 |\n",
       "\n"
      ],
      "text/plain": [
       "  sex status income verbal gamble\n",
       "1 1   51     2.00   8       0.0  \n",
       "2 1   28     2.50   8       0.0  \n",
       "3 1   37     2.00   6       0.0  \n",
       "4 1   28     7.00   4       7.3  \n",
       "5 1   65     2.00   8      19.6  \n",
       "6 1   61     3.47   6       0.1  "
      ]
     },
     "metadata": {},
     "output_type": "display_data"
    }
   ],
   "source": [
    "data(teengamb, package=\"faraway\")\n",
    "head(teengamb)"
   ]
  },
  {
   "cell_type": "code",
   "execution_count": 3,
   "metadata": {},
   "outputs": [],
   "source": [
    "# Change the categorical labels from 0 to male and 1 to female\n",
    "teengamb$sex <- factor(teengamb$sex)\n",
    "levels(teengamb$sex) <- c(\"male\",\"female\")"
   ]
  },
  {
   "cell_type": "code",
   "execution_count": 4,
   "metadata": {},
   "outputs": [
    {
     "data": {
      "text/plain": [
       "     sex         status          income           verbal          gamble     \n",
       " male  :28   Min.   :18.00   Min.   : 0.600   Min.   : 1.00   Min.   :  0.0  \n",
       " female:19   1st Qu.:28.00   1st Qu.: 2.000   1st Qu.: 6.00   1st Qu.:  1.1  \n",
       "             Median :43.00   Median : 3.250   Median : 7.00   Median :  6.0  \n",
       "             Mean   :45.23   Mean   : 4.642   Mean   : 6.66   Mean   : 19.3  \n",
       "             3rd Qu.:61.50   3rd Qu.: 6.210   3rd Qu.: 8.00   3rd Qu.: 19.4  \n",
       "             Max.   :75.00   Max.   :15.000   Max.   :10.00   Max.   :156.0  "
      ]
     },
     "metadata": {},
     "output_type": "display_data"
    }
   ],
   "source": [
    "summary(teengamb)"
   ]
  },
  {
   "cell_type": "code",
   "execution_count": 5,
   "metadata": {},
   "outputs": [
    {
     "data": {
      "image/png": "[encoded data removed]",
      "text/plain": [
       "Plot with title “”"
      ]
     },
     "metadata": {
      "image/png": {
       "height": 420,
       "width": 420
      }
     },
     "output_type": "display_data"
    }
   ],
   "source": [
    "plot(sort(teengamb$gamble), ylab=\"Pounds gambled per year\", main=\"\")"
   ]
  },
  {
   "cell_type": "markdown",
   "metadata": {},
   "source": [
    "Within the sample, we see that relatively few of the teens gamble to any extent. Both the gambling summary information show that We can see from the summary and the previous plot that ~75% of the teens gamble less than ~20 pounds per year. "
   ]
  },
  {
   "cell_type": "code",
   "execution_count": 6,
   "metadata": {},
   "outputs": [
    {
     "data": {
      "image/png": "[encoded data removed]",
      "text/plain": [
       "plot without title"
      ]
     },
     "metadata": {
      "image/png": {
       "height": 420,
       "width": 420
      }
     },
     "output_type": "display_data"
    }
   ],
   "source": [
    "plot(gamble ~ sex, teengamb)"
   ]
  },
  {
   "cell_type": "code",
   "execution_count": 8,
   "metadata": {},
   "outputs": [
    {
     "name": "stderr",
     "output_type": "stream",
     "text": [
      "Loading required package: ggplot2\n",
      "\n"
     ]
    },
    {
     "data": {
      "image/png": "[encoded data removed]",
      "text/plain": [
       "plot without title"
      ]
     },
     "metadata": {
      "image/png": {
       "height": 420,
       "width": 420
      }
     },
     "output_type": "display_data"
    },
    {
     "data": {
      "image/png": "[encoded data removed]",
      "text/plain": [
       "plot without title"
      ]
     },
     "metadata": {
      "image/png": {
       "height": 420,
       "width": 420
      }
     },
     "output_type": "display_data"
    }
   ],
   "source": [
    "require(ggplot2)\n",
    "ggplot(teengamb,aes(x=income,y=gamble,shape=sex))+geom_point(size=1)+facet_grid(~sex)\n",
    "ggplot(teengamb,aes(x=verbal,y=gamble,shape=sex))+geom_point(size=1)+facet_grid(~sex)"
   ]
  },
  {
   "cell_type": "markdown",
   "metadata": {},
   "source": [
    "Male teens showed a much stronger inclination to gambling than their female peers. Additionally, there is a weak inverse relationship between verbal accuity and gambling inclination."
   ]
  },
  {
   "cell_type": "markdown",
   "metadata": {},
   "source": [
    "## 1.2 Explore uswages"
   ]
  },
  {
   "cell_type": "code",
   "execution_count": 9,
   "metadata": {},
   "outputs": [
    {
     "data": {
      "text/html": [
       "<table class=\"dataframe\">\n",
       "<caption>A data.frame: 6 × 10</caption>\n",
       "<thead>\n",
       "\t<tr><th></th><th scope=col>wage</th><th scope=col>educ</th><th scope=col>exper</th><th scope=col>race</th><th scope=col>smsa</th><th scope=col>ne</th><th scope=col>mw</th><th scope=col>so</th><th scope=col>we</th><th scope=col>pt</th></tr>\n",
       "\t<tr><th></th><th scope=col>&lt;dbl&gt;</th><th scope=col>&lt;int&gt;</th><th scope=col>&lt;int&gt;</th><th scope=col>&lt;int&gt;</th><th scope=col>&lt;int&gt;</th><th scope=col>&lt;int&gt;</th><th scope=col>&lt;int&gt;</th><th scope=col>&lt;int&gt;</th><th scope=col>&lt;int&gt;</th><th scope=col>&lt;int&gt;</th></tr>\n",
       "</thead>\n",
       "<tbody>\n",
       "\t<tr><th scope=row>6085</th><td>771.60</td><td>18</td><td>18</td><td>0</td><td>1</td><td>1</td><td>0</td><td>0</td><td>0</td><td>0</td></tr>\n",
       "\t<tr><th scope=row>23701</th><td>617.28</td><td>15</td><td>20</td><td>0</td><td>1</td><td>0</td><td>0</td><td>0</td><td>1</td><td>0</td></tr>\n",
       "\t<tr><th scope=row>16208</th><td>957.83</td><td>16</td><td> 9</td><td>0</td><td>1</td><td>0</td><td>0</td><td>1</td><td>0</td><td>0</td></tr>\n",
       "\t<tr><th scope=row>2720</th><td>617.28</td><td>12</td><td>24</td><td>0</td><td>1</td><td>1</td><td>0</td><td>0</td><td>0</td><td>0</td></tr>\n",
       "\t<tr><th scope=row>9723</th><td>902.18</td><td>14</td><td>12</td><td>0</td><td>1</td><td>0</td><td>1</td><td>0</td><td>0</td><td>0</td></tr>\n",
       "\t<tr><th scope=row>22239</th><td>299.15</td><td>12</td><td>33</td><td>0</td><td>1</td><td>0</td><td>0</td><td>0</td><td>1</td><td>0</td></tr>\n",
       "</tbody>\n",
       "</table>\n"
      ],
      "text/latex": [
       "A data.frame: 6 × 10\n",
       "\\begin{tabular}{r|llllllllll}\n",
       "  & wage & educ & exper & race & smsa & ne & mw & so & we & pt\\\\\n",
       "  & <dbl> & <int> & <int> & <int> & <int> & <int> & <int> & <int> & <int> & <int>\\\\\n",
       "\\hline\n",
       "\t6085 & 771.60 & 18 & 18 & 0 & 1 & 1 & 0 & 0 & 0 & 0\\\\\n",
       "\t23701 & 617.28 & 15 & 20 & 0 & 1 & 0 & 0 & 0 & 1 & 0\\\\\n",
       "\t16208 & 957.83 & 16 &  9 & 0 & 1 & 0 & 0 & 1 & 0 & 0\\\\\n",
       "\t2720 & 617.28 & 12 & 24 & 0 & 1 & 1 & 0 & 0 & 0 & 0\\\\\n",
       "\t9723 & 902.18 & 14 & 12 & 0 & 1 & 0 & 1 & 0 & 0 & 0\\\\\n",
       "\t22239 & 299.15 & 12 & 33 & 0 & 1 & 0 & 0 & 0 & 1 & 0\\\\\n",
       "\\end{tabular}\n"
      ],
      "text/markdown": [
       "\n",
       "A data.frame: 6 × 10\n",
       "\n",
       "| <!--/--> | wage &lt;dbl&gt; | educ &lt;int&gt; | exper &lt;int&gt; | race &lt;int&gt; | smsa &lt;int&gt; | ne &lt;int&gt; | mw &lt;int&gt; | so &lt;int&gt; | we &lt;int&gt; | pt &lt;int&gt; |\n",
       "|---|---|---|---|---|---|---|---|---|---|---|\n",
       "| 6085 | 771.60 | 18 | 18 | 0 | 1 | 1 | 0 | 0 | 0 | 0 |\n",
       "| 23701 | 617.28 | 15 | 20 | 0 | 1 | 0 | 0 | 0 | 1 | 0 |\n",
       "| 16208 | 957.83 | 16 |  9 | 0 | 1 | 0 | 0 | 1 | 0 | 0 |\n",
       "| 2720 | 617.28 | 12 | 24 | 0 | 1 | 1 | 0 | 0 | 0 | 0 |\n",
       "| 9723 | 902.18 | 14 | 12 | 0 | 1 | 0 | 1 | 0 | 0 | 0 |\n",
       "| 22239 | 299.15 | 12 | 33 | 0 | 1 | 0 | 0 | 0 | 1 | 0 |\n",
       "\n"
      ],
      "text/plain": [
       "      wage   educ exper race smsa ne mw so we pt\n",
       "6085  771.60 18   18    0    1    1  0  0  0  0 \n",
       "23701 617.28 15   20    0    1    0  0  0  1  0 \n",
       "16208 957.83 16    9    0    1    0  0  1  0  0 \n",
       "2720  617.28 12   24    0    1    1  0  0  0  0 \n",
       "9723  902.18 14   12    0    1    0  1  0  0  0 \n",
       "22239 299.15 12   33    0    1    0  0  0  1  0 "
      ]
     },
     "metadata": {},
     "output_type": "display_data"
    }
   ],
   "source": [
    "data(uswages, package=\"faraway\")\n",
    "head(uswages)"
   ]
  },
  {
   "cell_type": "code",
   "execution_count": 12,
   "metadata": {},
   "outputs": [],
   "source": [
    "# Change categorical labels from 0 to white and 1 to black\n",
    "uswages$race <- factor(uswages$race)\n",
    "levels(uswages$race) <- c(\"white\",\"black\")"
   ]
  },
  {
   "cell_type": "code",
   "execution_count": 16,
   "metadata": {},
   "outputs": [
    {
     "data": {
      "text/plain": [
       "      wage              educ           exper          race           smsa      \n",
       " Min.   :  50.39   Min.   : 0.00   Min.   :-2.00   white:1844   Min.   :0.000  \n",
       " 1st Qu.: 308.64   1st Qu.:12.00   1st Qu.: 8.00   black: 156   1st Qu.:1.000  \n",
       " Median : 522.32   Median :12.00   Median :15.00                Median :1.000  \n",
       " Mean   : 608.12   Mean   :13.11   Mean   :18.41                Mean   :0.756  \n",
       " 3rd Qu.: 783.48   3rd Qu.:16.00   3rd Qu.:27.00                3rd Qu.:1.000  \n",
       " Max.   :7716.05   Max.   :18.00   Max.   :59.00                Max.   :1.000  \n",
       "       ne              mw               so               we      \n",
       " Min.   :0.000   Min.   :0.0000   Min.   :0.0000   Min.   :0.00  \n",
       " 1st Qu.:0.000   1st Qu.:0.0000   1st Qu.:0.0000   1st Qu.:0.00  \n",
       " Median :0.000   Median :0.0000   Median :0.0000   Median :0.00  \n",
       " Mean   :0.229   Mean   :0.2485   Mean   :0.3125   Mean   :0.21  \n",
       " 3rd Qu.:0.000   3rd Qu.:0.0000   3rd Qu.:1.0000   3rd Qu.:0.00  \n",
       " Max.   :1.000   Max.   :1.0000   Max.   :1.0000   Max.   :1.00  \n",
       "       pt        \n",
       " Min.   :0.0000  \n",
       " 1st Qu.:0.0000  \n",
       " Median :0.0000  \n",
       " Mean   :0.0925  \n",
       " 3rd Qu.:0.0000  \n",
       " Max.   :1.0000  "
      ]
     },
     "metadata": {},
     "output_type": "display_data"
    }
   ],
   "source": [
    "summary(uswages)"
   ]
  },
  {
   "cell_type": "code",
   "execution_count": 25,
   "metadata": {},
   "outputs": [
    {
     "name": "stderr",
     "output_type": "stream",
     "text": [
      "Installing package into ‘/home/jeremyfbuss/R/x86_64-pc-linux-gnu-library/3.6’\n",
      "(as ‘lib’ is unspecified)\n",
      "\n",
      "also installing the dependencies ‘purrr’, ‘generics’, ‘tidyselect’\n",
      "\n",
      "\n"
     ]
    }
   ],
   "source": [
    "install.packages(\"dplyr\")"
   ]
  },
  {
   "cell_type": "code",
   "execution_count": 26,
   "metadata": {},
   "outputs": [
    {
     "name": "stderr",
     "output_type": "stream",
     "text": [
      "\n",
      "Attaching package: ‘dplyr’\n",
      "\n",
      "\n",
      "The following object is masked from ‘package:ggplot2’:\n",
      "\n",
      "    vars\n",
      "\n",
      "\n",
      "The following objects are masked from ‘package:stats’:\n",
      "\n",
      "    filter, lag\n",
      "\n",
      "\n",
      "The following objects are masked from ‘package:base’:\n",
      "\n",
      "    intersect, setdiff, setequal, union\n",
      "\n",
      "\n"
     ]
    }
   ],
   "source": [
    "library(dplyr)"
   ]
  },
  {
   "cell_type": "code",
   "execution_count": 28,
   "metadata": {},
   "outputs": [
    {
     "data": {
      "text/html": [
       "<table class=\"dataframe\">\n",
       "<caption>A data.frame: 31 × 10</caption>\n",
       "<thead>\n",
       "\t<tr><th></th><th scope=col>wage</th><th scope=col>educ</th><th scope=col>exper</th><th scope=col>race</th><th scope=col>smsa</th><th scope=col>ne</th><th scope=col>mw</th><th scope=col>so</th><th scope=col>we</th><th scope=col>pt</th></tr>\n",
       "\t<tr><th></th><th scope=col>&lt;dbl&gt;</th><th scope=col>&lt;int&gt;</th><th scope=col>&lt;int&gt;</th><th scope=col>&lt;fct&gt;</th><th scope=col>&lt;int&gt;</th><th scope=col>&lt;int&gt;</th><th scope=col>&lt;int&gt;</th><th scope=col>&lt;int&gt;</th><th scope=col>&lt;int&gt;</th><th scope=col>&lt;int&gt;</th></tr>\n",
       "</thead>\n",
       "<tbody>\n",
       "\t<tr><th scope=row>15065</th><td> 617.28</td><td>16</td><td>-1</td><td>white</td><td>1</td><td>0</td><td>0</td><td>1</td><td>0</td><td>0</td></tr>\n",
       "\t<tr><th scope=row>9748</th><td> 123.46</td><td>15</td><td>-1</td><td>white</td><td>1</td><td>0</td><td>1</td><td>0</td><td>0</td><td>0</td></tr>\n",
       "\t<tr><th scope=row>3395</th><td>  76.43</td><td>13</td><td>-1</td><td>white</td><td>1</td><td>1</td><td>0</td><td>0</td><td>0</td><td>1</td></tr>\n",
       "\t<tr><th scope=row>1514</th><td> 189.93</td><td>15</td><td>-1</td><td>white</td><td>1</td><td>1</td><td>0</td><td>0</td><td>0</td><td>0</td></tr>\n",
       "\t<tr><th scope=row>9449</th><td>  98.77</td><td>13</td><td>-1</td><td>white</td><td>1</td><td>0</td><td>1</td><td>0</td><td>0</td><td>1</td></tr>\n",
       "\t<tr><th scope=row>6956</th><td> 180.44</td><td>15</td><td>-1</td><td>white</td><td>1</td><td>0</td><td>1</td><td>0</td><td>0</td><td>0</td></tr>\n",
       "\t<tr><th scope=row>12633</th><td> 121.08</td><td>13</td><td>-1</td><td>white</td><td>1</td><td>0</td><td>1</td><td>0</td><td>0</td><td>1</td></tr>\n",
       "\t<tr><th scope=row>12272</th><td> 123.46</td><td>14</td><td>-1</td><td>white</td><td>0</td><td>0</td><td>1</td><td>0</td><td>0</td><td>1</td></tr>\n",
       "\t<tr><th scope=row>26588</th><td>  65.43</td><td>17</td><td>-1</td><td>white</td><td>1</td><td>0</td><td>0</td><td>0</td><td>1</td><td>1</td></tr>\n",
       "\t<tr><th scope=row>2051</th><td> 156.89</td><td>13</td><td>-1</td><td>white</td><td>1</td><td>1</td><td>0</td><td>0</td><td>0</td><td>1</td></tr>\n",
       "\t<tr><th scope=row>14380</th><td> 257.00</td><td>17</td><td>-1</td><td>white</td><td>1</td><td>0</td><td>0</td><td>1</td><td>0</td><td>1</td></tr>\n",
       "\t<tr><th scope=row>13088</th><td> 238.68</td><td>16</td><td>-1</td><td>white</td><td>1</td><td>0</td><td>1</td><td>0</td><td>0</td><td>0</td></tr>\n",
       "\t<tr><th scope=row>24074</th><td> 142.45</td><td>16</td><td>-1</td><td>white</td><td>0</td><td>0</td><td>0</td><td>0</td><td>1</td><td>1</td></tr>\n",
       "\t<tr><th scope=row>22050</th><td> 688.51</td><td>18</td><td>-1</td><td>white</td><td>1</td><td>0</td><td>0</td><td>1</td><td>0</td><td>0</td></tr>\n",
       "\t<tr><th scope=row>5385</th><td>  81.93</td><td>14</td><td>-1</td><td>white</td><td>1</td><td>1</td><td>0</td><td>0</td><td>0</td><td>1</td></tr>\n",
       "\t<tr><th scope=row>17937</th><td> 200.00</td><td>16</td><td>-1</td><td>white</td><td>1</td><td>0</td><td>0</td><td>1</td><td>0</td><td>0</td></tr>\n",
       "\t<tr><th scope=row>4694</th><td> 123.46</td><td>18</td><td>-1</td><td>white</td><td>1</td><td>1</td><td>0</td><td>0</td><td>0</td><td>1</td></tr>\n",
       "\t<tr><th scope=row>917</th><td> 617.28</td><td>15</td><td>-1</td><td>white</td><td>1</td><td>1</td><td>0</td><td>0</td><td>0</td><td>0</td></tr>\n",
       "\t<tr><th scope=row>20062</th><td> 271.60</td><td>15</td><td>-1</td><td>white</td><td>1</td><td>0</td><td>0</td><td>1</td><td>0</td><td>1</td></tr>\n",
       "\t<tr><th scope=row>15089</th><td> 246.91</td><td>15</td><td>-1</td><td>white</td><td>1</td><td>0</td><td>0</td><td>1</td><td>0</td><td>1</td></tr>\n",
       "\t<tr><th scope=row>22511</th><td>  71.23</td><td>14</td><td>-1</td><td>white</td><td>0</td><td>0</td><td>0</td><td>0</td><td>1</td><td>1</td></tr>\n",
       "\t<tr><th scope=row>16178</th><td> 189.93</td><td>16</td><td>-1</td><td>white</td><td>1</td><td>0</td><td>0</td><td>1</td><td>0</td><td>0</td></tr>\n",
       "\t<tr><th scope=row>24400</th><td> 152.51</td><td>13</td><td>-1</td><td>white</td><td>0</td><td>0</td><td>0</td><td>0</td><td>1</td><td>0</td></tr>\n",
       "\t<tr><th scope=row>11986</th><td>  61.73</td><td>17</td><td>-1</td><td>white</td><td>0</td><td>0</td><td>1</td><td>0</td><td>0</td><td>1</td></tr>\n",
       "\t<tr><th scope=row>3538</th><td> 109.19</td><td>14</td><td>-1</td><td>white</td><td>1</td><td>1</td><td>0</td><td>0</td><td>0</td><td>1</td></tr>\n",
       "\t<tr><th scope=row>4994</th><td> 329.22</td><td>15</td><td>-1</td><td>white</td><td>1</td><td>1</td><td>0</td><td>0</td><td>0</td><td>0</td></tr>\n",
       "\t<tr><th scope=row>15606</th><td> 148.15</td><td>15</td><td>-1</td><td>white</td><td>1</td><td>0</td><td>0</td><td>1</td><td>0</td><td>0</td></tr>\n",
       "\t<tr><th scope=row>4728</th><td>  51.44</td><td>16</td><td>-1</td><td>white</td><td>1</td><td>1</td><td>0</td><td>0</td><td>0</td><td>1</td></tr>\n",
       "\t<tr><th scope=row>14237</th><td> 157.02</td><td>14</td><td>-1</td><td>black</td><td>1</td><td>0</td><td>0</td><td>1</td><td>0</td><td>1</td></tr>\n",
       "\t<tr><th scope=row>27883</th><td>2292.77</td><td>13</td><td>-1</td><td>white</td><td>1</td><td>0</td><td>0</td><td>0</td><td>1</td><td>0</td></tr>\n",
       "\t<tr><th scope=row>9668</th><td> 130.58</td><td>17</td><td>-1</td><td>white</td><td>1</td><td>0</td><td>1</td><td>0</td><td>0</td><td>1</td></tr>\n",
       "</tbody>\n",
       "</table>\n"
      ],
      "text/latex": [
       "A data.frame: 31 × 10\n",
       "\\begin{tabular}{r|llllllllll}\n",
       "  & wage & educ & exper & race & smsa & ne & mw & so & we & pt\\\\\n",
       "  & <dbl> & <int> & <int> & <fct> & <int> & <int> & <int> & <int> & <int> & <int>\\\\\n",
       "\\hline\n",
       "\t15065 &  617.28 & 16 & -1 & white & 1 & 0 & 0 & 1 & 0 & 0\\\\\n",
       "\t9748 &  123.46 & 15 & -1 & white & 1 & 0 & 1 & 0 & 0 & 0\\\\\n",
       "\t3395 &   76.43 & 13 & -1 & white & 1 & 1 & 0 & 0 & 0 & 1\\\\\n",
       "\t1514 &  189.93 & 15 & -1 & white & 1 & 1 & 0 & 0 & 0 & 0\\\\\n",
       "\t9449 &   98.77 & 13 & -1 & white & 1 & 0 & 1 & 0 & 0 & 1\\\\\n",
       "\t6956 &  180.44 & 15 & -1 & white & 1 & 0 & 1 & 0 & 0 & 0\\\\\n",
       "\t12633 &  121.08 & 13 & -1 & white & 1 & 0 & 1 & 0 & 0 & 1\\\\\n",
       "\t12272 &  123.46 & 14 & -1 & white & 0 & 0 & 1 & 0 & 0 & 1\\\\\n",
       "\t26588 &   65.43 & 17 & -1 & white & 1 & 0 & 0 & 0 & 1 & 1\\\\\n",
       "\t2051 &  156.89 & 13 & -1 & white & 1 & 1 & 0 & 0 & 0 & 1\\\\\n",
       "\t14380 &  257.00 & 17 & -1 & white & 1 & 0 & 0 & 1 & 0 & 1\\\\\n",
       "\t13088 &  238.68 & 16 & -1 & white & 1 & 0 & 1 & 0 & 0 & 0\\\\\n",
       "\t24074 &  142.45 & 16 & -1 & white & 0 & 0 & 0 & 0 & 1 & 1\\\\\n",
       "\t22050 &  688.51 & 18 & -1 & white & 1 & 0 & 0 & 1 & 0 & 0\\\\\n",
       "\t5385 &   81.93 & 14 & -1 & white & 1 & 1 & 0 & 0 & 0 & 1\\\\\n",
       "\t17937 &  200.00 & 16 & -1 & white & 1 & 0 & 0 & 1 & 0 & 0\\\\\n",
       "\t4694 &  123.46 & 18 & -1 & white & 1 & 1 & 0 & 0 & 0 & 1\\\\\n",
       "\t917 &  617.28 & 15 & -1 & white & 1 & 1 & 0 & 0 & 0 & 0\\\\\n",
       "\t20062 &  271.60 & 15 & -1 & white & 1 & 0 & 0 & 1 & 0 & 1\\\\\n",
       "\t15089 &  246.91 & 15 & -1 & white & 1 & 0 & 0 & 1 & 0 & 1\\\\\n",
       "\t22511 &   71.23 & 14 & -1 & white & 0 & 0 & 0 & 0 & 1 & 1\\\\\n",
       "\t16178 &  189.93 & 16 & -1 & white & 1 & 0 & 0 & 1 & 0 & 0\\\\\n",
       "\t24400 &  152.51 & 13 & -1 & white & 0 & 0 & 0 & 0 & 1 & 0\\\\\n",
       "\t11986 &   61.73 & 17 & -1 & white & 0 & 0 & 1 & 0 & 0 & 1\\\\\n",
       "\t3538 &  109.19 & 14 & -1 & white & 1 & 1 & 0 & 0 & 0 & 1\\\\\n",
       "\t4994 &  329.22 & 15 & -1 & white & 1 & 1 & 0 & 0 & 0 & 0\\\\\n",
       "\t15606 &  148.15 & 15 & -1 & white & 1 & 0 & 0 & 1 & 0 & 0\\\\\n",
       "\t4728 &   51.44 & 16 & -1 & white & 1 & 1 & 0 & 0 & 0 & 1\\\\\n",
       "\t14237 &  157.02 & 14 & -1 & black & 1 & 0 & 0 & 1 & 0 & 1\\\\\n",
       "\t27883 & 2292.77 & 13 & -1 & white & 1 & 0 & 0 & 0 & 1 & 0\\\\\n",
       "\t9668 &  130.58 & 17 & -1 & white & 1 & 0 & 1 & 0 & 0 & 1\\\\\n",
       "\\end{tabular}\n"
      ],
      "text/markdown": [
       "\n",
       "A data.frame: 31 × 10\n",
       "\n",
       "| <!--/--> | wage &lt;dbl&gt; | educ &lt;int&gt; | exper &lt;int&gt; | race &lt;fct&gt; | smsa &lt;int&gt; | ne &lt;int&gt; | mw &lt;int&gt; | so &lt;int&gt; | we &lt;int&gt; | pt &lt;int&gt; |\n",
       "|---|---|---|---|---|---|---|---|---|---|---|\n",
       "| 15065 |  617.28 | 16 | -1 | white | 1 | 0 | 0 | 1 | 0 | 0 |\n",
       "| 9748 |  123.46 | 15 | -1 | white | 1 | 0 | 1 | 0 | 0 | 0 |\n",
       "| 3395 |   76.43 | 13 | -1 | white | 1 | 1 | 0 | 0 | 0 | 1 |\n",
       "| 1514 |  189.93 | 15 | -1 | white | 1 | 1 | 0 | 0 | 0 | 0 |\n",
       "| 9449 |   98.77 | 13 | -1 | white | 1 | 0 | 1 | 0 | 0 | 1 |\n",
       "| 6956 |  180.44 | 15 | -1 | white | 1 | 0 | 1 | 0 | 0 | 0 |\n",
       "| 12633 |  121.08 | 13 | -1 | white | 1 | 0 | 1 | 0 | 0 | 1 |\n",
       "| 12272 |  123.46 | 14 | -1 | white | 0 | 0 | 1 | 0 | 0 | 1 |\n",
       "| 26588 |   65.43 | 17 | -1 | white | 1 | 0 | 0 | 0 | 1 | 1 |\n",
       "| 2051 |  156.89 | 13 | -1 | white | 1 | 1 | 0 | 0 | 0 | 1 |\n",
       "| 14380 |  257.00 | 17 | -1 | white | 1 | 0 | 0 | 1 | 0 | 1 |\n",
       "| 13088 |  238.68 | 16 | -1 | white | 1 | 0 | 1 | 0 | 0 | 0 |\n",
       "| 24074 |  142.45 | 16 | -1 | white | 0 | 0 | 0 | 0 | 1 | 1 |\n",
       "| 22050 |  688.51 | 18 | -1 | white | 1 | 0 | 0 | 1 | 0 | 0 |\n",
       "| 5385 |   81.93 | 14 | -1 | white | 1 | 1 | 0 | 0 | 0 | 1 |\n",
       "| 17937 |  200.00 | 16 | -1 | white | 1 | 0 | 0 | 1 | 0 | 0 |\n",
       "| 4694 |  123.46 | 18 | -1 | white | 1 | 1 | 0 | 0 | 0 | 1 |\n",
       "| 917 |  617.28 | 15 | -1 | white | 1 | 1 | 0 | 0 | 0 | 0 |\n",
       "| 20062 |  271.60 | 15 | -1 | white | 1 | 0 | 0 | 1 | 0 | 1 |\n",
       "| 15089 |  246.91 | 15 | -1 | white | 1 | 0 | 0 | 1 | 0 | 1 |\n",
       "| 22511 |   71.23 | 14 | -1 | white | 0 | 0 | 0 | 0 | 1 | 1 |\n",
       "| 16178 |  189.93 | 16 | -1 | white | 1 | 0 | 0 | 1 | 0 | 0 |\n",
       "| 24400 |  152.51 | 13 | -1 | white | 0 | 0 | 0 | 0 | 1 | 0 |\n",
       "| 11986 |   61.73 | 17 | -1 | white | 0 | 0 | 1 | 0 | 0 | 1 |\n",
       "| 3538 |  109.19 | 14 | -1 | white | 1 | 1 | 0 | 0 | 0 | 1 |\n",
       "| 4994 |  329.22 | 15 | -1 | white | 1 | 1 | 0 | 0 | 0 | 0 |\n",
       "| 15606 |  148.15 | 15 | -1 | white | 1 | 0 | 0 | 1 | 0 | 0 |\n",
       "| 4728 |   51.44 | 16 | -1 | white | 1 | 1 | 0 | 0 | 0 | 1 |\n",
       "| 14237 |  157.02 | 14 | -1 | black | 1 | 0 | 0 | 1 | 0 | 1 |\n",
       "| 27883 | 2292.77 | 13 | -1 | white | 1 | 0 | 0 | 0 | 1 | 0 |\n",
       "| 9668 |  130.58 | 17 | -1 | white | 1 | 0 | 1 | 0 | 0 | 1 |\n",
       "\n"
      ],
      "text/plain": [
       "      wage    educ exper race  smsa ne mw so we pt\n",
       "15065  617.28 16   -1    white 1    0  0  1  0  0 \n",
       "9748   123.46 15   -1    white 1    0  1  0  0  0 \n",
       "3395    76.43 13   -1    white 1    1  0  0  0  1 \n",
       "1514   189.93 15   -1    white 1    1  0  0  0  0 \n",
       "9449    98.77 13   -1    white 1    0  1  0  0  1 \n",
       "6956   180.44 15   -1    white 1    0  1  0  0  0 \n",
       "12633  121.08 13   -1    white 1    0  1  0  0  1 \n",
       "12272  123.46 14   -1    white 0    0  1  0  0  1 \n",
       "26588   65.43 17   -1    white 1    0  0  0  1  1 \n",
       "2051   156.89 13   -1    white 1    1  0  0  0  1 \n",
       "14380  257.00 17   -1    white 1    0  0  1  0  1 \n",
       "13088  238.68 16   -1    white 1    0  1  0  0  0 \n",
       "24074  142.45 16   -1    white 0    0  0  0  1  1 \n",
       "22050  688.51 18   -1    white 1    0  0  1  0  0 \n",
       "5385    81.93 14   -1    white 1    1  0  0  0  1 \n",
       "17937  200.00 16   -1    white 1    0  0  1  0  0 \n",
       "4694   123.46 18   -1    white 1    1  0  0  0  1 \n",
       "917    617.28 15   -1    white 1    1  0  0  0  0 \n",
       "20062  271.60 15   -1    white 1    0  0  1  0  1 \n",
       "15089  246.91 15   -1    white 1    0  0  1  0  1 \n",
       "22511   71.23 14   -1    white 0    0  0  0  1  1 \n",
       "16178  189.93 16   -1    white 1    0  0  1  0  0 \n",
       "24400  152.51 13   -1    white 0    0  0  0  1  0 \n",
       "11986   61.73 17   -1    white 0    0  1  0  0  1 \n",
       "3538   109.19 14   -1    white 1    1  0  0  0  1 \n",
       "4994   329.22 15   -1    white 1    1  0  0  0  0 \n",
       "15606  148.15 15   -1    white 1    0  0  1  0  0 \n",
       "4728    51.44 16   -1    white 1    1  0  0  0  1 \n",
       "14237  157.02 14   -1    black 1    0  0  1  0  1 \n",
       "27883 2292.77 13   -1    white 1    0  0  0  1  0 \n",
       "9668   130.58 17   -1    white 1    0  1  0  0  1 "
      ]
     },
     "metadata": {},
     "output_type": "display_data"
    }
   ],
   "source": [
    "filter(uswages, exper == -1)"
   ]
  },
  {
   "cell_type": "code",
   "execution_count": null,
   "metadata": {},
   "outputs": [],
   "source": []
  }
 ],
 "metadata": {
  "kernelspec": {
   "display_name": "R",
   "language": "R",
   "name": "ir"
  },
  "language_info": {
   "codemirror_mode": "r",
   "file_extension": ".r",
   "mimetype": "text/x-r-source",
   "name": "R",
   "pygments_lexer": "r",
   "version": "3.6.3"
  }
 },
 "nbformat": 4,
 "nbformat_minor": 2
}
